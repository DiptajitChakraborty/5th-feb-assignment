{
 "cells": [
  {
   "cell_type": "code",
   "execution_count": 3,
   "id": "4c19325c-794e-4ed5-b2a5-2b744019fa4a",
   "metadata": {},
   "outputs": [],
   "source": [
    "#Q1\n",
    "#Ans:-  \n",
    "#Class is a blue print in laymen language or skeleton. Actually class is a classification of real word entity but not specific to a real world entity\n",
    "\n",
    "#Object is a real world entity .It is also caleed as variable,instance.\n",
    "\n",
    "#example of class :- class'str'\n",
    "#example of object :- a = 'pwskills', here a is an object"
   ]
  },
  {
   "cell_type": "code",
   "execution_count": 4,
   "id": "f5be805b-300e-4bc7-b167-0fc3833f3d0e",
   "metadata": {},
   "outputs": [],
   "source": [
    "#Q2\n",
    "#These four pillars are Inheritance, Polymorphism, Encapsulation and Abstraction."
   ]
  },
  {
   "cell_type": "code",
   "execution_count": 5,
   "id": "6b8b0c5c-41ca-427a-bfb1-af0551fe63bb",
   "metadata": {},
   "outputs": [],
   "source": [
    "#Q3\n",
    "#__init__ is generally a constructor. it passes the data under class. It\"s main work is to take input the data and pass the data under class.\n",
    "#Example of _init__ function\n",
    "class pwskills1 :\n",
    "    \n",
    "    def __init__(self,phone_number , email_id, student_id):\n",
    "        self.phone_number =phone_number \n",
    "        self.email_id = email_id\n",
    "        self.student_id = student_id\n",
    "    def return_student_details(self):\n",
    "        return self.student_id,self.phone_number, self.email_id\n"
   ]
  },
  {
   "cell_type": "code",
   "execution_count": 7,
   "id": "25799469-79e6-4801-9368-3fa87f8ae215",
   "metadata": {},
   "outputs": [],
   "source": [
    "dipta = pwskills1(154236789, 'dipta@gmail.com', 145)"
   ]
  },
  {
   "cell_type": "code",
   "execution_count": 8,
   "id": "e94854a5-6970-4daa-9a82-60a047c2d4e0",
   "metadata": {},
   "outputs": [
    {
     "data": {
      "text/plain": [
       "154236789"
      ]
     },
     "execution_count": 8,
     "metadata": {},
     "output_type": "execute_result"
    }
   ],
   "source": [
    "dipta.phone_number"
   ]
  },
  {
   "cell_type": "code",
   "execution_count": 9,
   "id": "6bc0a4b8-fe3a-40a3-bdbd-fca97c2164a1",
   "metadata": {},
   "outputs": [],
   "source": [
    "#Q4\n",
    "#Ans : - self is used to bind the function in the class."
   ]
  },
  {
   "cell_type": "code",
   "execution_count": null,
   "id": "bd7a7661-81ec-474c-9374-262726db8cf4",
   "metadata": {},
   "outputs": [],
   "source": [
    "#Q5\n",
    "# Inheritance is the capacity of a particular class to obtain or inherit properties from another class and then use them when required. Inheritance has the following characteristics:\n",
    "\n",
    "# It is an excellent representation of relationships in the real world.\n",
    "# It allows code reuse. It doesn't require us to create the same code repeatedly and again. It also allows us to add options to an existing class without having to modify the existing code.\n",
    "# It is a transitive nature, meaning that if B is inherited from another class A, all the subclasses belonging to B will inherit directly from class A.\n"
   ]
  }
 ],
 "metadata": {
  "kernelspec": {
   "display_name": "Python 3 (ipykernel)",
   "language": "python",
   "name": "python3"
  },
  "language_info": {
   "codemirror_mode": {
    "name": "ipython",
    "version": 3
   },
   "file_extension": ".py",
   "mimetype": "text/x-python",
   "name": "python",
   "nbconvert_exporter": "python",
   "pygments_lexer": "ipython3",
   "version": "3.10.8"
  }
 },
 "nbformat": 4,
 "nbformat_minor": 5
}
